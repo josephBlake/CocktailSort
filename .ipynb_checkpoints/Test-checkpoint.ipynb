{
 "cells": [
  {
   "cell_type": "code",
   "execution_count": 1,
   "metadata": {
    "scrolled": true
   },
   "outputs": [
    {
     "name": "stderr",
     "output_type": "stream",
     "text": [
      "....\n",
      "----------------------------------------------------------------------\n",
      "Ran 4 tests in 0.007s\n",
      "\n",
      "OK\n"
     ]
    }
   ],
   "source": [
    "! python test_cocktail.py"
   ]
  },
  {
   "cell_type": "code",
   "execution_count": 1,
   "metadata": {},
   "outputs": [],
   "source": [
    "import time\n",
    "import random\n",
    "import matplotlib.pyplot as plt\n",
    "import numpy as np\n",
    "from sorting import CocktailShaker\n",
    "\n",
    "# List containing 100\n",
    "timesHundredShuffled = []\n",
    "timesHundredSorted = []\n",
    "timesHundredRevSorted = []\n",
    "timesHundred = []\n",
    "for i in range(0, 100):\n",
    "    timesHundred.append(random.random())\n",
    "\n",
    "# List containing 1000\n",
    "timesThousandShuffled = []\n",
    "timesThousandSorted = []\n",
    "timesThousandRevSorted = []\n",
    "timesThousand = []\n",
    "for i in range(0, 1000):\n",
    "    timesThousand.append(random.random())\n",
    "\n",
    "# List containing 10000\n",
    "timesTenThousandShuffled = []\n",
    "timesTenThousandSorted = []\n",
    "timesTenThousandRevSorted = []\n",
    "timesTenThousand = []\n",
    "for i in range(0, 10000):\n",
    "    timesTenThousand.append(random.random())\n",
    "\n",
    "# List containing 100000\n",
    "timesHundredThousandShuffled = []\n",
    "timesHundredThousandSorted = []\n",
    "timesHundredThousandRevSorted = []\n",
    "timesHundredThousand = []\n",
    "for i in range(0, 100000):\n",
    "    timesHundredThousand.append(random.random())"
   ]
  },
  {
   "cell_type": "code",
   "execution_count": 2,
   "metadata": {},
   "outputs": [
    {
     "name": "stderr",
     "output_type": "stream",
     "text": [
      "C:\\Users\\blakeaj\\AppData\\Local\\Continuum\\anaconda3\\lib\\site-packages\\ipykernel_launcher.py:6: DeprecationWarning: time.clock has been deprecated in Python 3.3 and will be removed from Python 3.8: use time.perf_counter or time.process_time instead\n",
      "  \n",
      "C:\\Users\\blakeaj\\AppData\\Local\\Continuum\\anaconda3\\lib\\site-packages\\ipykernel_launcher.py:8: DeprecationWarning: time.clock has been deprecated in Python 3.3 and will be removed from Python 3.8: use time.perf_counter or time.process_time instead\n",
      "  \n",
      "C:\\Users\\blakeaj\\AppData\\Local\\Continuum\\anaconda3\\lib\\site-packages\\ipykernel_launcher.py:13: DeprecationWarning: time.clock has been deprecated in Python 3.3 and will be removed from Python 3.8: use time.perf_counter or time.process_time instead\n",
      "  del sys.path[0]\n",
      "C:\\Users\\blakeaj\\AppData\\Local\\Continuum\\anaconda3\\lib\\site-packages\\ipykernel_launcher.py:15: DeprecationWarning: time.clock has been deprecated in Python 3.3 and will be removed from Python 3.8: use time.perf_counter or time.process_time instead\n",
      "  from ipykernel import kernelapp as app\n",
      "C:\\Users\\blakeaj\\AppData\\Local\\Continuum\\anaconda3\\lib\\site-packages\\ipykernel_launcher.py:20: DeprecationWarning: time.clock has been deprecated in Python 3.3 and will be removed from Python 3.8: use time.perf_counter or time.process_time instead\n",
      "C:\\Users\\blakeaj\\AppData\\Local\\Continuum\\anaconda3\\lib\\site-packages\\ipykernel_launcher.py:22: DeprecationWarning: time.clock has been deprecated in Python 3.3 and will be removed from Python 3.8: use time.perf_counter or time.process_time instead\n",
      "C:\\Users\\blakeaj\\AppData\\Local\\Continuum\\anaconda3\\lib\\site-packages\\ipykernel_launcher.py:27: DeprecationWarning: time.clock has been deprecated in Python 3.3 and will be removed from Python 3.8: use time.perf_counter or time.process_time instead\n",
      "C:\\Users\\blakeaj\\AppData\\Local\\Continuum\\anaconda3\\lib\\site-packages\\ipykernel_launcher.py:29: DeprecationWarning: time.clock has been deprecated in Python 3.3 and will be removed from Python 3.8: use time.perf_counter or time.process_time instead\n"
     ]
    },
    {
     "name": "stdout",
     "output_type": "stream",
     "text": [
      "Completed trial  0\n",
      "Completed trial  1\n",
      "Completed trial  2\n",
      "Completed trial  3\n",
      "Completed trial  4\n",
      "Completed trial  5\n",
      "Completed trial  6\n",
      "Completed trial  7\n",
      "Completed trial  8\n",
      "Completed trial  9\n",
      "Shuffled Times\n",
      "100 Numbers [0.0017266470003960421, 0.0006313579997367924, 0.0006054340010450687, 0.0005919319992244709, 0.0007021089986665174, 0.0006616020000365097, 0.0007139909994293703, 0.0005994929997541476, 0.0004952569979650434, 0.0005735690028814133]\n",
      "1,000 Numbers [0.17912522599908698, 0.07181114400009392, 0.0734654199986835, 0.07772451999881014, 0.08641284500117763, 0.08533915899897693, 0.0740697729997919, 0.07580452199908905, 0.0731030240021937, 0.06974856400120188]\n",
      "10,000 Numbers [19.814860940998187, 7.919732226000633, 7.752227439999842, 8.152768603998993, 9.362689940000564, 10.007530926999607, 8.338399677999405, 8.452735387998473, 7.792381039998872, 7.804759217000537]\n",
      "100,000 Numbers [1072.5428931740007, 902.3082538279996, 886.7871870549989, 899.0683421859994, 1222.5443940669993, 1125.510570247001, 1032.1662949989986, 868.0526813800006, 813.0811632320001, 811.8980057410008]\n"
     ]
    }
   ],
   "source": [
    "# Tests when lists are shuffled each time\n",
    "\n",
    "for i in range(0, 10):\n",
    "    # Hundred Length\n",
    "    random.shuffle(timesHundred)\n",
    "    start = time.clock()\n",
    "    CocktailShaker.cocktail_shaker_sort(timesHundred)\n",
    "    end = time.clock()\n",
    "    elapsed = end - start\n",
    "    timesHundredShuffled.append(elapsed)\n",
    "    # Thousand Length\n",
    "    random.shuffle(timesThousand)\n",
    "    start = time.clock()\n",
    "    CocktailShaker.cocktail_shaker_sort(timesThousand)\n",
    "    end = time.clock()\n",
    "    elapsed = end - start\n",
    "    timesThousandShuffled.append(elapsed)\n",
    "    # TenThousand Length\n",
    "    random.shuffle(timesTenThousand)\n",
    "    start = time.clock()\n",
    "    CocktailShaker.cocktail_shaker_sort(timesTenThousand)\n",
    "    end = time.clock()\n",
    "    elapsed = end - start\n",
    "    timesTenThousandShuffled.append(elapsed)\n",
    "    # HundredThousand Length\n",
    "    random.shuffle(timesHundredThousand)\n",
    "    start = time.clock()\n",
    "    CocktailShaker.cocktail_shaker_sort(timesHundredThousand)\n",
    "    end = time.clock()\n",
    "    elapsed = end - start\n",
    "    timesHundredThousandShuffled.append(elapsed)\n",
    "    print(\"Completed trial \", i)\n",
    "print(\"Shuffled Times\")\n",
    "print(\"100 Numbers\", timesHundredShuffled)\n",
    "print(\"1,000 Numbers\", timesThousandShuffled)\n",
    "print(\"10,000 Numbers\", timesTenThousandShuffled)\n",
    "print(\"100,000 Numbers\", timesHundredThousandShuffled)"
   ]
  },
  {
   "cell_type": "code",
   "execution_count": 3,
   "metadata": {},
   "outputs": [
    {
     "name": "stdout",
     "output_type": "stream",
     "text": [
      "Completed trial  0\n",
      "Completed trial  1\n",
      "Completed trial  2\n",
      "Completed trial  3\n",
      "Completed trial  4\n",
      "Completed trial  5\n",
      "Completed trial  6\n",
      "Completed trial  7\n",
      "Completed trial  8\n",
      "Completed trial  9\n",
      "Sorted Times\n",
      "100 Numbers [4.698699922300875e-05, 1.0261999705107883e-05, 2.3762997443554923e-05, 9.720999514684081e-06, 1.0801999451359734e-05, 1.0260999260935932e-05, 8.641000022180378e-06, 9.720999514684081e-06, 9.721999958856031e-06, 9.18099976843223e-06]\n",
      "1,000 Numbers [0.00013556100020650774, 7.345199992414564e-05, 6.643000233452767e-05, 6.697099888697267e-05, 7.561200254713185e-05, 6.642999869654886e-05, 6.642999869654886e-05, 6.696999844280072e-05, 6.697000208077952e-05, 6.643000233452767e-05]\n",
      "10,000 Numbers [0.0010067160001199227, 0.0009867320004559588, 0.0007534169999416918, 0.0006999479992373381, 0.0007555769989266992, 0.0009159809997072443, 0.0007793410004524048, 0.0007010289991740137, 0.0006988690001890063, 0.0006983290004427545]\n",
      "100,000 Numbers [0.010265909997542622, 0.01056565700127976, 0.010922651999862865, 0.00967127800322487, 0.008408022000367055, 0.007775043999572517, 0.00856572600241634, 0.008669963001011638, 0.007876579998992383, 0.008573828003136441]\n"
     ]
    },
    {
     "name": "stderr",
     "output_type": "stream",
     "text": [
      "C:\\Users\\blakeaj\\AppData\\Local\\Continuum\\anaconda3\\lib\\site-packages\\ipykernel_launcher.py:6: DeprecationWarning: time.clock has been deprecated in Python 3.3 and will be removed from Python 3.8: use time.perf_counter or time.process_time instead\n",
      "  \n",
      "C:\\Users\\blakeaj\\AppData\\Local\\Continuum\\anaconda3\\lib\\site-packages\\ipykernel_launcher.py:8: DeprecationWarning: time.clock has been deprecated in Python 3.3 and will be removed from Python 3.8: use time.perf_counter or time.process_time instead\n",
      "  \n",
      "C:\\Users\\blakeaj\\AppData\\Local\\Continuum\\anaconda3\\lib\\site-packages\\ipykernel_launcher.py:13: DeprecationWarning: time.clock has been deprecated in Python 3.3 and will be removed from Python 3.8: use time.perf_counter or time.process_time instead\n",
      "  del sys.path[0]\n",
      "C:\\Users\\blakeaj\\AppData\\Local\\Continuum\\anaconda3\\lib\\site-packages\\ipykernel_launcher.py:15: DeprecationWarning: time.clock has been deprecated in Python 3.3 and will be removed from Python 3.8: use time.perf_counter or time.process_time instead\n",
      "  from ipykernel import kernelapp as app\n",
      "C:\\Users\\blakeaj\\AppData\\Local\\Continuum\\anaconda3\\lib\\site-packages\\ipykernel_launcher.py:20: DeprecationWarning: time.clock has been deprecated in Python 3.3 and will be removed from Python 3.8: use time.perf_counter or time.process_time instead\n",
      "C:\\Users\\blakeaj\\AppData\\Local\\Continuum\\anaconda3\\lib\\site-packages\\ipykernel_launcher.py:22: DeprecationWarning: time.clock has been deprecated in Python 3.3 and will be removed from Python 3.8: use time.perf_counter or time.process_time instead\n",
      "C:\\Users\\blakeaj\\AppData\\Local\\Continuum\\anaconda3\\lib\\site-packages\\ipykernel_launcher.py:27: DeprecationWarning: time.clock has been deprecated in Python 3.3 and will be removed from Python 3.8: use time.perf_counter or time.process_time instead\n",
      "C:\\Users\\blakeaj\\AppData\\Local\\Continuum\\anaconda3\\lib\\site-packages\\ipykernel_launcher.py:29: DeprecationWarning: time.clock has been deprecated in Python 3.3 and will be removed from Python 3.8: use time.perf_counter or time.process_time instead\n"
     ]
    }
   ],
   "source": [
    "# Tests when lists are sorted\n",
    "\n",
    "for i in range(0, 10):\n",
    "    # Hundred Length\n",
    "    list.sort(timesHundred)\n",
    "    start = time.clock()\n",
    "    CocktailShaker.cocktail_shaker_sort(timesHundred)\n",
    "    end = time.clock()\n",
    "    elapsed = end - start\n",
    "    timesHundredSorted.append(elapsed)\n",
    "    # Thousand Length\n",
    "    list.sort(timesThousand)\n",
    "    start = time.clock()\n",
    "    CocktailShaker.cocktail_shaker_sort(timesThousand)\n",
    "    end = time.clock()\n",
    "    elapsed = end - start\n",
    "    timesThousandSorted.append(elapsed)\n",
    "    # TenThousand Length\n",
    "    list.sort(timesTenThousand)\n",
    "    start = time.clock()\n",
    "    CocktailShaker.cocktail_shaker_sort(timesTenThousand)\n",
    "    end = time.clock()\n",
    "    elapsed = end - start\n",
    "    timesTenThousandSorted.append(elapsed)\n",
    "    # HundredThousand Length\n",
    "    list.sort(timesHundredThousand)\n",
    "    start = time.clock()\n",
    "    CocktailShaker.cocktail_shaker_sort(timesHundredThousand)\n",
    "    end = time.clock()\n",
    "    elapsed = end - start\n",
    "    timesHundredThousandSorted.append(elapsed)\n",
    "    print(\"Completed trial \", i)\n",
    "print(\"Sorted Times\")\n",
    "print(\"100 Numbers\", timesHundredSorted)\n",
    "print(\"1,000 Numbers\", timesThousandSorted)\n",
    "print(\"10,000 Numbers\", timesTenThousandSorted)\n",
    "print(\"100,000 Numbers\", timesHundredThousandSorted)"
   ]
  },
  {
   "cell_type": "code",
   "execution_count": 4,
   "metadata": {},
   "outputs": [
    {
     "name": "stderr",
     "output_type": "stream",
     "text": [
      "C:\\Users\\blakeaj\\AppData\\Local\\Continuum\\anaconda3\\lib\\site-packages\\ipykernel_launcher.py:11: DeprecationWarning: time.clock has been deprecated in Python 3.3 and will be removed from Python 3.8: use time.perf_counter or time.process_time instead\n",
      "  # This is added back by InteractiveShellApp.init_path()\n",
      "C:\\Users\\blakeaj\\AppData\\Local\\Continuum\\anaconda3\\lib\\site-packages\\ipykernel_launcher.py:13: DeprecationWarning: time.clock has been deprecated in Python 3.3 and will be removed from Python 3.8: use time.perf_counter or time.process_time instead\n",
      "  del sys.path[0]\n",
      "C:\\Users\\blakeaj\\AppData\\Local\\Continuum\\anaconda3\\lib\\site-packages\\ipykernel_launcher.py:18: DeprecationWarning: time.clock has been deprecated in Python 3.3 and will be removed from Python 3.8: use time.perf_counter or time.process_time instead\n",
      "C:\\Users\\blakeaj\\AppData\\Local\\Continuum\\anaconda3\\lib\\site-packages\\ipykernel_launcher.py:20: DeprecationWarning: time.clock has been deprecated in Python 3.3 and will be removed from Python 3.8: use time.perf_counter or time.process_time instead\n",
      "C:\\Users\\blakeaj\\AppData\\Local\\Continuum\\anaconda3\\lib\\site-packages\\ipykernel_launcher.py:25: DeprecationWarning: time.clock has been deprecated in Python 3.3 and will be removed from Python 3.8: use time.perf_counter or time.process_time instead\n",
      "C:\\Users\\blakeaj\\AppData\\Local\\Continuum\\anaconda3\\lib\\site-packages\\ipykernel_launcher.py:27: DeprecationWarning: time.clock has been deprecated in Python 3.3 and will be removed from Python 3.8: use time.perf_counter or time.process_time instead\n",
      "C:\\Users\\blakeaj\\AppData\\Local\\Continuum\\anaconda3\\lib\\site-packages\\ipykernel_launcher.py:32: DeprecationWarning: time.clock has been deprecated in Python 3.3 and will be removed from Python 3.8: use time.perf_counter or time.process_time instead\n",
      "C:\\Users\\blakeaj\\AppData\\Local\\Continuum\\anaconda3\\lib\\site-packages\\ipykernel_launcher.py:34: DeprecationWarning: time.clock has been deprecated in Python 3.3 and will be removed from Python 3.8: use time.perf_counter or time.process_time instead\n"
     ]
    },
    {
     "name": "stdout",
     "output_type": "stream",
     "text": [
      "Completed trial  0\n",
      "Completed trial  1\n",
      "Completed trial  2\n",
      "Completed trial  3\n",
      "Completed trial  4\n",
      "Completed trial  5\n",
      "Completed trial  6\n",
      "Completed trial  7\n",
      "Completed trial  8\n",
      "Completed trial  9\n",
      "Reverse Sorted Times\n",
      "100 Numbers [0.001399357002810575, 0.0029364350011746865, 0.006043535999197047, 0.0029272530009620823, 0.0028813469980377704, 0.0028813460012315772, 0.0012740579986711964, 0.0011671200045384467, 0.0011671210013446398, 0.001140656000643503]\n",
      "1,000 Numbers [0.1428645489977498, 0.38743711399729364, 0.6178384230006486, 0.3735110569978133, 0.37520907999714836, 0.36764304799726233, 0.1553788289966178, 0.15139895199536113, 0.15468968200002564, 0.1484689979988616]\n",
      "10,000 Numbers [14.86260001700066, 39.78517416300019, 44.83076964599968, 40.24601566799538, 40.02535746799549, 39.551263389999804, 16.104738423993695, 16.730108313997334, 16.272652053994534, 15.859485353998025]\n",
      "100,000 Numbers [4414.857677155, 4687.271186267, 4484.468879570002, 4484.2016634579995, 4275.774607967003, 3483.6097177260017, 1819.007792327, 1805.5208723430042, 1755.2074569350007, 1648.3547193859995]\n"
     ]
    }
   ],
   "source": [
    "# Tests when lists are reverse sorted\n",
    "\n",
    "list.sort(timesHundred)\n",
    "list.sort(timesThousand)\n",
    "list.sort(timesTenThousand)\n",
    "list.sort(timesHundredThousand)\n",
    "\n",
    "for i in range(0, 10):\n",
    "    # Hundred Length\n",
    "    list.reverse(timesHundred)\n",
    "    start = time.clock()\n",
    "    CocktailShaker.cocktail_shaker_sort(timesHundred)\n",
    "    end = time.clock()\n",
    "    elapsed = end - start\n",
    "    timesHundredRevSorted.append(elapsed)\n",
    "    # Thousand Length\n",
    "    list.reverse(timesThousand)\n",
    "    start = time.clock()\n",
    "    CocktailShaker.cocktail_shaker_sort(timesThousand)\n",
    "    end = time.clock()\n",
    "    elapsed = end - start\n",
    "    timesThousandRevSorted.append(elapsed)\n",
    "    # TenThousand Length\n",
    "    list.reverse(timesTenThousand)\n",
    "    start = time.clock()\n",
    "    CocktailShaker.cocktail_shaker_sort(timesTenThousand)\n",
    "    end = time.clock()\n",
    "    elapsed = end - start\n",
    "    timesTenThousandRevSorted.append(elapsed)\n",
    "    # HundredThousand Length\n",
    "    list.reverse(timesHundredThousand)\n",
    "    start = time.clock()\n",
    "    CocktailShaker.cocktail_shaker_sort(timesHundredThousand)\n",
    "    end = time.clock()\n",
    "    elapsed = end - start\n",
    "    timesHundredThousandRevSorted.append(elapsed)\n",
    "    print(\"Completed trial \", i)\n",
    "print(\"Reverse Sorted Times\")\n",
    "print(\"100 Numbers\", timesHundredRevSorted)\n",
    "print(\"1,000 Numbers\", timesThousandRevSorted)\n",
    "print(\"10,000 Numbers\", timesTenThousandRevSorted)\n",
    "print(\"100,000 Numbers\", timesHundredThousandRevSorted)"
   ]
  },
  {
   "cell_type": "code",
   "execution_count": 5,
   "metadata": {},
   "outputs": [
    {
     "data": {
      "text/plain": [
       "<matplotlib.legend.Legend at 0x27269718c08>"
      ]
     },
     "execution_count": 5,
     "metadata": {},
     "output_type": "execute_result"
    },
    {
     "data": {
      "image/png": "[encoded data removed]",
      "text/plain": [
       "<Figure size 432x288 with 1 Axes>"
      ]
     },
     "metadata": {
      "needs_background": "light"
     },
     "output_type": "display_data"
    }
   ],
   "source": [
    "# Show Charts\n",
    "list_sizes = [100, 1000, 10000, 100000]\n",
    "\n",
    "# Prepare Shuffled\n",
    "averageHundredShuffled = np.mean(timesHundredShuffled)\n",
    "averageThousandShuffled = np.mean(timesThousandShuffled)\n",
    "averageTenThousandShuffled = np.mean(timesTenThousandShuffled)\n",
    "averageHundredThousandShuffled = np.mean(timesHundredThousandShuffled)\n",
    "shuffledTimes = [averageHundredShuffled, averageThousandShuffled, averageTenThousandShuffled, averageHundredThousandShuffled]\n",
    "plt.plot(np.log10(list_sizes), shuffledTimes, label=\"Shuffled\")\n",
    "\n",
    "# Prepare Sorted\n",
    "averageHundredSorted = np.mean(timesHundredSorted)\n",
    "averageThousandSorted = np.mean(timesThousandSorted)\n",
    "averageTenThousandSorted = np.mean(timesTenThousandSorted)\n",
    "averageHundredThousandSorted = np.mean(timesHundredThousandSorted)\n",
    "sortedTimes = [averageHundredSorted, averageThousandSorted, averageTenThousandSorted, averageHundredThousandSorted]\n",
    "plt.plot(np.log10(list_sizes), sortedTimes, label=\"Sorted\")\n",
    "\n",
    "# Prepare Reverse Sorted\n",
    "averageHundredRevSorted = np.mean(timesHundredRevSorted)\n",
    "averageThousandRevSorted = np.mean(timesThousandRevSorted)\n",
    "averageTenThousandRevSorted = np.mean(timesTenThousandRevSorted)\n",
    "averageHundredThousandRevSorted = np.mean(timesHundredThousandRevSorted)\n",
    "revSortedTimes = [averageHundredRevSorted, averageThousandRevSorted, averageTenThousandRevSorted, averageHundredThousandRevSorted]\n",
    "plt.plot(np.log10(list_sizes), revSortedTimes, label=\"Rev-Sorted\")\n",
    "\n",
    "plt.xlabel(\"List Size (log10)\", fontsize=18)\n",
    "plt.ylabel(\"Running Time (s)\", fontsize=18)\n",
    "plt.legend()"
   ]
  }
 ],
 "metadata": {
  "kernelspec": {
   "display_name": "Python 3",
   "language": "python",
   "name": "python3"
  },
  "language_info": {
   "codemirror_mode": {
    "name": "ipython",
    "version": 3
   },
   "file_extension": ".py",
   "mimetype": "text/x-python",
   "name": "python",
   "nbconvert_exporter": "python",
   "pygments_lexer": "ipython3",
   "version": "3.7.4"
  }
 },
 "nbformat": 4,
 "nbformat_minor": 2
}
